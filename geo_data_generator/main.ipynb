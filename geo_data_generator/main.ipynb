{
 "cells": [
  {
   "cell_type": "code",
   "execution_count": 1,
   "metadata": {},
   "outputs": [],
   "source": [
    "from osm_integration import OSMManager\n",
    "from models.Adult import Adult\n",
    "from datetime import datetime\n",
    "import folium"
   ]
  },
  {
   "cell_type": "code",
   "execution_count": 2,
   "metadata": {},
   "outputs": [
    {
     "name": "stdout",
     "output_type": "stream",
     "text": [
      "Loading graph for center point (10.8231, 106.6297) with radius 10000 meters...\n",
      "Scanning for residential...\n",
      "Scanning for residential near (10.8231, 106.6297) within 10000 meters...\n",
      "Found 301 residential.\n",
      "Scanning for parks...\n",
      "Scanning for parks near (10.8231, 106.6297) within 10000 meters...\n",
      "Found 466 parks.\n",
      "Scanning for schools...\n",
      "Scanning for schools near (10.8231, 106.6297) within 10000 meters...\n",
      "Found 774 schools.\n",
      "Scanning for workplaces...\n",
      "Scanning for workplaces near (10.8231, 106.6297) within 10000 meters...\n",
      "Found 517 workplaces.\n",
      "Scanning for markets...\n",
      "Scanning for markets near (10.8231, 106.6297) within 10000 meters...\n",
      "Found 239 markets.\n",
      "Scanning for healthcare...\n",
      "Scanning for healthcare near (10.8231, 106.6297) within 10000 meters...\n",
      "Found 459 healthcare.\n",
      "Scanning for play_areas...\n",
      "Scanning for play_areas near (10.8231, 106.6297) within 10000 meters...\n",
      "Found 37 play_areas.\n",
      "Scanning for gyms...\n",
      "Scanning for gyms near (10.8231, 106.6297) within 10000 meters...\n",
      "Found 37 gyms.\n"
     ]
    }
   ],
   "source": [
    "# Define the center point and radius for OSMManager\n",
    "center_point = (10.8231, 106.6297)  # Example: Ho Chi Minh City center\n",
    "radius = 10000  # 10 km radius\n",
    "\n",
    "# Initialize OSMManager\n",
    "osm_manager = OSMManager(center_point, radius, network_type=\"drive\")"
   ]
  },
  {
   "cell_type": "code",
   "execution_count": 3,
   "metadata": {},
   "outputs": [
    {
     "name": "stdout",
     "output_type": "stream",
     "text": [
      "Person 1 assigned home at (10.845788056566933, 106.61751965118172).\n",
      "Person 1 assigned workplace at (10.783373744958267, 106.70171622756372).\n",
      "Person 1 assigned gym at (10.8401535, 106.6531776).\n",
      "Person 1 assigned market at (10.859631978268704, 106.61728235315348).\n",
      "Trajectory built from (10.845788056566933, 106.61751965118172) to (10.783373744958267, 106.70171622756372) with 127 nodes.\n",
      "Trajectory built from (10.783373744958267, 106.70171622756372) to (10.859631978268704, 106.61728235315348) with 143 nodes.\n",
      "Trajectory built from (10.859631978268704, 106.61728235315348) to (10.783373744958267, 106.70171622756372) with 142 nodes.\n",
      "Trajectory built from (10.783373744958267, 106.70171622756372) to (10.8401535, 106.6531776) with 108 nodes.\n",
      "Trajectory built from (10.8401535, 106.6531776) to (10.845788056566933, 106.61751965118172) with 59 nodes.\n"
     ]
    }
   ],
   "source": [
    "# Create an adult person\n",
    "adult = Adult(unique_id=1, type=\"adult\", speed=1.4, osm_manager=osm_manager)"
   ]
  },
  {
   "cell_type": "code",
   "execution_count": 4,
   "metadata": {},
   "outputs": [
    {
     "name": "stdout",
     "output_type": "stream",
     "text": [
      "\n",
      "--- Assigned Waypoints ---\n",
      "Home: (10.845788056566933, 106.61751965118172)\n",
      "Workplace: (10.783373744958267, 106.70171622756372)\n",
      "Market: (10.859631978268704, 106.61728235315348)\n",
      "Gym: (10.8401535, 106.6531776)\n"
     ]
    }
   ],
   "source": [
    "# Print the assigned waypoints\n",
    "print(\"\\n--- Assigned Waypoints ---\")\n",
    "for waypoint, coords in adult.waypoints.items():\n",
    "    if coords:\n",
    "        print(f\"{waypoint.capitalize()}: {coords}\")"
   ]
  },
  {
   "cell_type": "code",
   "execution_count": 5,
   "metadata": {},
   "outputs": [
    {
     "name": "stdout",
     "output_type": "stream",
     "text": [
      "\n",
      "--- Schedule ---\n",
      "home → workplace at 07:00:00\n",
      "workplace → market at 12:00:00\n",
      "market → workplace at 13:00:00\n",
      "workplace → gym at 18:00:00\n",
      "gym → home at 20:00:00\n"
     ]
    }
   ],
   "source": [
    "# Print the schedule\n",
    "print(\"\\n--- Schedule ---\")\n",
    "for movement in adult.schedule:\n",
    "    print(f\"{movement['start_waypoint']} → {movement['end_waypoint']} at {movement['start_time']}\")"
   ]
  },
  {
   "cell_type": "code",
   "execution_count": 6,
   "metadata": {},
   "outputs": [
    {
     "name": "stdout",
     "output_type": "stream",
     "text": [
      "\n",
      "--- Detailed Schedule ---\n",
      "home → workplace\n",
      "  Start Time: 07:00:00\n",
      "  Arrival Time: 09:40:14.908484\n",
      "  Distance: 13460.87187706115 meters\n",
      "  Travel Time: 9614.908483615109 seconds\n",
      "  Route Nodes: [7305453075, 5043145811, 7305453080, 4069486218, 8141356742, 8141356743, 1611021948, 8548211894, 8141356723, 8141356741, 8141297190, 2091954894, 3067835769, 2869810792, 2091954752, 2276515365, 2276493879, 5718947672, 5718945598, 6645630553, 11601639074, 2091954867, 2091954831, 2091954828, 2091954791, 2091954891, 11768103473, 3655114529, 3655114531, 5735879410, 2091954889, 2091954845, 5735332144, 2091954877, 11453123758, 2079964012, 2592269705, 2082378083, 11399978032, 2079964403, 2079964176, 11399978019, 366379261, 2079964288, 6631169239, 2079964221, 11414718179, 366467129, 2433201343, 2078950513, 2078950886, 2407526807, 366471478, 366426580, 2513642423, 5721686013, 366461736, 11323053473, 8995743761, 8995743760, 5762747868, 723876650, 5762825874, 366462099, 2081907930, 2293477528, 6252959053, 9570547350, 2008273929, 366435377, 6349849591, 2353049576, 366455074, 366378949, 5721610423, 5721608415, 366428767, 6349849947, 6349849950, 6349849957, 3758592313, 710021199, 11959710135, 2214251893, 366453218, 3638268672, 3717158280, 711335740, 1671468479, 4426095095, 2291062340, 6729387214, 3734437558, 6729387208, 2366457792, 411925966, 411926343, 411926424, 411917959, 411923970, 411918844, 411918842, 411926363, 411926016, 11133237546, 11133237547, 411926344, 12363632344, 12363632346, 12363632352, 12363632350, 411926477, 12447084682, 12447084681, 2230280818, 411926465, 411926523, 411926578, 411926580, 411918714, 10978330103, 411926547, 6858588498, 411926034, 10978360618, 12435058728, 6858588487]\n",
      "workplace → market\n",
      "  Start Time: 12:00:00\n",
      "  Arrival Time: 14:51:45.367133\n",
      "  Distance: 14427.51398642054 meters\n",
      "  Travel Time: 10305.36713315753 seconds\n",
      "  Route Nodes: [6858588487, 10978360609, 6858588499, 10991234693, 1769692389, 2403047190, 4099242263, 411926704, 411919278, 411926705, 11364187677, 6637183621, 6637183631, 411919051, 366374786, 5764779786, 1497276493, 5757535100, 3329711665, 5767300383, 5757535101, 366423565, 2351201590, 366433635, 366458462, 5755149907, 5755149899, 366432300, 366426183, 5755149872, 366418591, 11098799675, 11098799676, 5755175894, 1497255721, 696860102, 5733269529, 366400198, 5738102590, 366374009, 2496916462, 5738537391, 6799998219, 6799998218, 3641844559, 11891917327, 11891917328, 11891917329, 11891917334, 366389514, 12439022176, 3138804690, 366378675, 5793427533, 5762755207, 4447252158, 5742713535, 5798936914, 5798936912, 5798936908, 5742713536, 3326713916, 4451424912, 5799070000, 366465550, 5799070002, 5799069506, 6772699064, 3640191262, 6770537620, 4672043489, 4672043388, 366422145, 2487522978, 2353065952, 2487522977, 4433894786, 3640176428, 2210912782, 366436008, 2353065949, 366370127, 5724654565, 4441523969, 5719110616, 860316979, 366433769, 3640190412, 4447332019, 366450167, 4441525400, 2353073457, 2269044436, 3283299615, 5750716467, 3283299616, 366405666, 2269044437, 2353078009, 5750699243, 366372346, 11303705712, 366430414, 5845744220, 5845744218, 5845744210, 5753522717, 11801624179, 5717004697, 366453616, 6645665369, 5753463961, 5753383593, 366461724, 3638271150, 2269043913, 2269043910, 5753383591, 2353079730, 2269043899, 3638268555, 5750432681, 5758101433, 2353089971, 2485969480, 366466067, 5740594858, 366387641, 5740397773, 5740397772, 2408541286, 378247852, 366478779, 5733511262, 366436114, 6468087097, 366390037, 5762600040, 5767711666, 5767711722, 5764885908, 5764885909, 366476623]\n",
      "market → workplace\n",
      "  Start Time: 13:00:00\n",
      "  Arrival Time: 15:55:35.061088\n",
      "  Distance: 14749.085522833278 meters\n",
      "  Travel Time: 10535.061087738057 seconds\n",
      "  Route Nodes: [366476623, 5764885909, 5764885908, 5767711722, 5767711666, 5762600040, 2210755371, 2210755365, 5733411465, 5733411458, 5733511274, 2210760895, 5740397771, 3095373929, 2321456772, 2211069707, 2353089957, 5758101431, 366426832, 5750432680, 3638268558, 366409675, 366469166, 6645665368, 3638271147, 2353079400, 2269043916, 2269043894, 2269044539, 2269043918, 2269043927, 5750698666, 2353073491, 11365780380, 2353073506, 2364022101, 5724806889, 11303705707, 2353073516, 5716917519, 2269043906, 5886778554, 4556716396, 5886778547, 3640162979, 5886778584, 2269043921, 5888387498, 5888387501, 4444935128, 4444935123, 4444935110, 4444934859, 5889850008, 4444935089, 4444935121, 3640176427, 5888387680, 2269043926, 2269044438, 4440170051, 5888387616, 4440317106, 5888387612, 4444946070, 2269043928, 4719622687, 4719623390, 6772804085, 4728688224, 7134752935, 3640191262, 6772699064, 5799069506, 5799070002, 366465550, 5799070000, 4451424912, 3326713916, 5742713536, 5798936908, 5798936912, 5798936914, 5742713535, 4447252158, 5762755207, 5793427533, 366378675, 12439022177, 11891917341, 11891917331, 11891917330, 11891917326, 2493366312, 5738537391, 2496916462, 366374009, 5738102590, 366400198, 5733269529, 696860102, 1497255721, 5755175894, 5755149889, 366411711, 366458024, 5773400802, 11758401312, 12320753206, 12320753205, 366417290, 5350664362, 2899892666, 5350664358, 5350664402, 5350664449, 6637081013, 5350664365, 6696632982, 5350664368, 5350664366, 5350664367, 366440881, 6637081019, 411925989, 411919051, 5772015879, 5772015877, 1998235285, 3014433881, 3014433882, 411926453, 411925891, 411926704, 411918913, 411925988, 411926446, 411918912, 411925936, 411925987, 10978360611, 6858588487]\n",
      "workplace → gym\n",
      "  Start Time: 18:00:00\n",
      "  Arrival Time: 19:58:23.545866\n",
      "  Distance: 9944.96421209041 meters\n",
      "  Travel Time: 7103.545865778865 seconds\n",
      "  Route Nodes: [6858588487, 10978360609, 6858588499, 10991234693, 1769692389, 2403047190, 4099242263, 411926704, 411919278, 411926705, 11364187677, 6637183621, 6637183631, 411919051, 366374786, 5764779786, 1497276493, 5757535100, 3329711665, 5767300383, 5757535101, 366423565, 2351201590, 366433635, 366458462, 5755149907, 5755149899, 366432300, 366426183, 5755149872, 366418591, 11098799675, 11098799676, 5755175894, 1497255721, 696860102, 5733269529, 366400198, 5738102590, 366374009, 2496916462, 5738537391, 6799998219, 6799998218, 3641844559, 11891917327, 11891917328, 11891917329, 11891917334, 366389514, 12439022176, 3138804690, 366378675, 5793427533, 5762755207, 4447252158, 5742713535, 5798936914, 5798936912, 5798936908, 5742713536, 3326713916, 4451424912, 5799070000, 366465550, 5799070002, 5799069506, 6772699064, 3640191262, 6770537620, 4672043489, 4672043388, 366422145, 2487522978, 2353065952, 2487522977, 4433894786, 3640176428, 2210912782, 366436008, 2353065949, 366370127, 5724654565, 4441523969, 5719110616, 860316979, 366433769, 3640190412, 4447332019, 366450167, 4441525400, 2353073457, 2269044436, 3283299615, 5750716467, 3283299616, 366405666, 2269044437, 2353078009, 5750699243, 366372346, 11303705712, 5845744257, 5753558000, 5717004708, 5845744222, 5717004700, 5753523943]\n",
      "gym → home\n",
      "  Start Time: 20:00:00\n",
      "  Arrival Time: 21:09:49.215077\n",
      "  Distance: 5864.901108310306 meters\n",
      "  Travel Time: 4189.215077364504 seconds\n",
      "  Route Nodes: [5753523943, 5717004700, 366403736, 5717004680, 5717004681, 5717004684, 5753522719, 366430414, 5845744220, 5845744218, 5845744210, 5753522717, 11801624179, 5717004697, 366453616, 6645665369, 5753463961, 5753383593, 366461724, 3638271150, 2269043913, 2269043910, 5753383591, 2353079730, 2269043899, 3638268555, 5750432681, 5758101433, 2353089971, 2485969480, 366466067, 5740594858, 366387641, 5740397773, 5740397772, 2408541286, 378247852, 366478779, 5733511262, 366436114, 6468087097, 366390037, 2210755371, 2210755365, 5733411475, 2247590931, 2247590933, 5733267628, 2247590951, 2247590946, 8360614861, 5740628079, 8360325464, 4069486209, 4069486216, 5043145834, 5043145804, 5043145811, 7305453075]\n"
     ]
    }
   ],
   "source": [
    "# Print the detailed schedule with trajectories\n",
    "print(\"\\n--- Detailed Schedule ---\")\n",
    "for movement in adult.detail_schedule:\n",
    "    print(f\"{movement['start_waypoint']} → {movement['end_waypoint']}\")\n",
    "    print(f\"  Start Time: {movement['start_time']}\")\n",
    "    print(f\"  Arrival Time: {movement['arrival_time']}\")\n",
    "    print(f\"  Distance: {movement['distance_m']} meters\")\n",
    "    print(f\"  Travel Time: {movement['travel_time_s']} seconds\")\n",
    "    print(f\"  Route Nodes: {movement['route_nodes']}\")"
   ]
  },
  {
   "cell_type": "code",
   "execution_count": 7,
   "metadata": {},
   "outputs": [
    {
     "name": "stdout",
     "output_type": "stream",
     "text": [
      "\n",
      "--- Simulated Position ---\n",
      "Time: 2025-01-12 07:30:39.286322\n",
      "Position (latitude, longitude): (np.float64(10.82740681117545), np.float64(106.62493910173228))\n"
     ]
    }
   ],
   "source": [
    "# Simulate position at a specific time\n",
    "current_time = datetime.now().replace(hour=7, minute=30)  # Example time\n",
    "position = adult.get_position_at_time(current_time)\n",
    "\n",
    "print(\"\\n--- Simulated Position ---\")\n",
    "print(f\"Time: {current_time}\")\n",
    "print(f\"Position (latitude, longitude): {position}\")"
   ]
  },
  {
   "cell_type": "code",
   "execution_count": 8,
   "metadata": {},
   "outputs": [
    {
     "data": {
      "text/plain": [
       "<folium.map.Marker at 0x12cc329e0>"
      ]
     },
     "execution_count": 8,
     "metadata": {},
     "output_type": "execute_result"
    }
   ],
   "source": [
    "# Create a Folium map centered at the person's home\n",
    "home_coords = adult.waypoints[\"home\"]\n",
    "folium_map = folium.Map(location=home_coords, zoom_start=13)\n",
    "\n",
    "# Add waypoints to the map\n",
    "for waypoint, coords in adult.waypoints.items():\n",
    "    if coords:\n",
    "        folium.Marker(\n",
    "            location=coords, \n",
    "            popup=waypoint.capitalize(), \n",
    "            icon=folium.Icon(color=\"blue\")\n",
    "        ).add_to(folium_map)\n",
    "\n",
    "# Add trajectories to the map\n",
    "for movement in adult.detail_schedule:\n",
    "    route_nodes = movement[\"route_nodes\"]\n",
    "    route_coords = [(osm_manager.nodes.loc[node, \"y\"], osm_manager.nodes.loc[node, \"x\"]) for node in route_nodes]\n",
    "    \n",
    "    # Draw the route as a polyline\n",
    "    folium.PolyLine(route_coords, color=\"red\", weight=2.5, opacity=0.8).add_to(folium_map)\n",
    "\n",
    "# Add current position to the map\n",
    "folium.Marker(\n",
    "    location=position,\n",
    "    popup=f\"Current Position at {current_time.time()}\",\n",
    "    icon=folium.Icon(color=\"green\", icon=\"info-sign\"),\n",
    ").add_to(folium_map)"
   ]
  },
  {
   "cell_type": "code",
   "execution_count": 9,
   "metadata": {},
   "outputs": [
    {
     "name": "stdout",
     "output_type": "stream",
     "text": [
      "Map saved to person_movement_map.html\n"
     ]
    }
   ],
   "source": [
    "# Save the map to an HTML file\n",
    "map_filename = \"person_movement_map.html\"\n",
    "folium_map.save(map_filename)\n",
    "print(f\"Map saved to {map_filename}\")\n"
   ]
  }
 ],
 "metadata": {
  "kernelspec": {
   "display_name": ".venv",
   "language": "python",
   "name": "python3"
  },
  "language_info": {
   "codemirror_mode": {
    "name": "ipython",
    "version": 3
   },
   "file_extension": ".py",
   "mimetype": "text/x-python",
   "name": "python",
   "nbconvert_exporter": "python",
   "pygments_lexer": "ipython3",
   "version": "3.13.0"
  }
 },
 "nbformat": 4,
 "nbformat_minor": 2
}
