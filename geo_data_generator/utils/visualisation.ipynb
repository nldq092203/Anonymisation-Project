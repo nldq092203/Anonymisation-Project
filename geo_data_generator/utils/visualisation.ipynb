{
 "cells": [
  {
   "cell_type": "code",
   "execution_count": 10,
   "metadata": {},
   "outputs": [
    {
     "name": "stdout",
     "output_type": "stream",
     "text": [
      "Map has been saved to geo_data_map.html\n"
     ]
    }
   ],
   "source": [
    "import folium\n",
    "import pandas as pd\n",
    "\n",
    "def visualize_geo_data(csv_file):\n",
    "    # Load the CSV file into a DataFrame and assign column names manually\n",
    "    columns = [\"ID\", \"Date\", \"Latitude\", \"Longitude\"]\n",
    "    df = pd.read_csv(csv_file, delimiter=\"\\t\", header=None, names=columns)\n",
    "    \n",
    "    # Initialize a Folium map centered at the average location\n",
    "    avg_lat = df[\"Latitude\"].mean()\n",
    "    avg_lon = df[\"Longitude\"].mean()\n",
    "    map_ = folium.Map(location=[avg_lat, avg_lon], zoom_start=3)\n",
    "    \n",
    "    # Add markers to the map\n",
    "    for _, row in df.iterrows():\n",
    "        folium.Marker(\n",
    "            location=[row[\"Latitude\"], row[\"Longitude\"]],\n",
    "            popup=f\"ID: {row['ID']}<br>Date: {row['Date']}\",\n",
    "            icon=folium.Icon(color=\"blue\", icon=\"info-sign\")\n",
    "        ).add_to(map_)\n",
    "    \n",
    "    # Save the map to an HTML file\n",
    "    map_.save(\"/Users/quynhnguyen/Documents/Documents/Project Data/Anonymisation Project/Anonymisation-Project/map_visualisation/geo_data_map.html\")\n",
    "    print(\"Map has been saved to geo_data_map.html\")\n",
    "\n",
    "# Path to the CSV file (update the path as needed)\n",
    "csv_file = \"/Users/quynhnguyen/Documents/Documents/Project Data/Anonymisation Project/Anonymisation-Project/geo_data_generator/origin_data/survey_results_0.csv\"  # Replace with your actual file path\n",
    "visualize_geo_data(csv_file)"
   ]
  }
 ],
 "metadata": {
  "kernelspec": {
   "display_name": ".venv",
   "language": "python",
   "name": "python3"
  },
  "language_info": {
   "codemirror_mode": {
    "name": "ipython",
    "version": 3
   },
   "file_extension": ".py",
   "mimetype": "text/x-python",
   "name": "python",
   "nbconvert_exporter": "python",
   "pygments_lexer": "ipython3",
   "version": "3.13.0"
  }
 },
 "nbformat": 4,
 "nbformat_minor": 2
}
