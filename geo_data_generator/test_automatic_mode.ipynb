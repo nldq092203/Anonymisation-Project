{
 "cells": [
  {
   "cell_type": "code",
   "execution_count": 1,
   "metadata": {},
   "outputs": [],
   "source": [
    "from osm_integration import OSMManager\n",
    "from models.adult import Adult\n",
    "from datetime import datetime\n",
    "import folium"
   ]
  },
  {
   "cell_type": "code",
   "execution_count": 2,
   "metadata": {},
   "outputs": [
    {
     "name": "stdout",
     "output_type": "stream",
     "text": [
      "Loading graph from cache: graph_cache/6bf208f59a960e253819f00601a6bdbd.pkl\n",
      "Scanning for residential...\n",
      "Scanning for residential near (48.8588897, 2.3200410217200766) within 5000 meters...\n",
      "Found 97 residential.\n",
      "Scanning for parks...\n",
      "Scanning for parks near (48.8588897, 2.3200410217200766) within 5000 meters...\n",
      "Found 782 parks.\n",
      "Scanning for schools...\n",
      "Scanning for schools near (48.8588897, 2.3200410217200766) within 5000 meters...\n",
      "Found 1319 schools.\n",
      "Scanning for workplaces...\n",
      "Scanning for workplaces near (48.8588897, 2.3200410217200766) within 5000 meters...\n",
      "Found 4718 workplaces.\n",
      "Scanning for markets...\n",
      "Scanning for markets near (48.8588897, 2.3200410217200766) within 5000 meters...\n",
      "Found 714 markets.\n",
      "Scanning for healthcare...\n",
      "Scanning for healthcare near (48.8588897, 2.3200410217200766) within 5000 meters...\n",
      "Found 1119 healthcare.\n",
      "Scanning for play_areas...\n",
      "Scanning for play_areas near (48.8588897, 2.3200410217200766) within 5000 meters...\n",
      "Found 693 play_areas.\n",
      "Scanning for gyms...\n",
      "Scanning for gyms near (48.8588897, 2.3200410217200766) within 5000 meters...\n",
      "Found 242 gyms.\n"
     ]
    }
   ],
   "source": [
    "# Define the center point and radius for OSMManager\n",
    "center_point = (48.8588897, 2.3200410217200766)  # Example: Ho Chi Minh City center\n",
    "radius = 5000  # 5 km radius\n",
    "\n",
    "# Initialize OSMManager\n",
    "osm_manager = OSMManager(center_point, radius, network_type=\"drive\")"
   ]
  },
  {
   "cell_type": "code",
   "execution_count": 4,
   "metadata": {},
   "outputs": [
    {
     "name": "stdout",
     "output_type": "stream",
     "text": [
      "Trajectory built from (48.89174486132547, 2.3023119972446877) to (48.856013427576144, 2.2678282530846796) with 68 nodes.\n",
      "Trajectory built from (48.856013427576144, 2.2678282530846796) to (48.8922190141131, 2.2982799744212903) with 52 nodes.\n",
      "Trajectory built from (48.8922190141131, 2.2982799744212903) to (48.856013427576144, 2.2678282530846796) with 53 nodes.\n",
      "Trajectory built from (48.856013427576144, 2.2678282530846796) to (48.8928314, 2.2977128) with 52 nodes.\n",
      "Trajectory built from (48.8928314, 2.2977128) to (48.89174486132547, 2.3023119972446877) with 7 nodes.\n"
     ]
    }
   ],
   "source": [
    "# Create an adult person\n",
    "adult = Adult(unique_id=1, person_type=\"adult\", speed=11.4, osm_manager=osm_manager)"
   ]
  },
  {
   "cell_type": "code",
   "execution_count": 5,
   "metadata": {},
   "outputs": [
    {
     "name": "stdout",
     "output_type": "stream",
     "text": [
      "\n",
      "--- Assigned Waypoints ---\n",
      "Home: (48.89174486132547, 2.3023119972446877)\n",
      "Workplace: (48.856013427576144, 2.2678282530846796)\n",
      "Gym: (48.8928314, 2.2977128)\n",
      "Market: (48.8922190141131, 2.2982799744212903)\n"
     ]
    }
   ],
   "source": [
    "# Print the assigned waypoints\n",
    "print(\"\\n--- Assigned Waypoints ---\")\n",
    "for waypoint, coords in adult.waypoints.items():\n",
    "    if coords:\n",
    "        print(f\"{waypoint.capitalize()}: {coords}\")"
   ]
  },
  {
   "cell_type": "code",
   "execution_count": 6,
   "metadata": {},
   "outputs": [
    {
     "name": "stdout",
     "output_type": "stream",
     "text": [
      "\n",
      "--- Schedule ---\n",
      "home → workplace at 07:00:00\n",
      "workplace → market at 12:00:00\n",
      "market → workplace at 13:00:00\n",
      "workplace → gym at 18:00:00\n",
      "gym → home at 20:00:00\n"
     ]
    }
   ],
   "source": [
    "# Print the schedule\n",
    "print(\"\\n--- Schedule ---\")\n",
    "for movement in adult.schedule:\n",
    "    print(f\"{movement['start_waypoint']} → {movement['end_waypoint']} at {movement['start_time']}\")"
   ]
  },
  {
   "cell_type": "code",
   "execution_count": 7,
   "metadata": {},
   "outputs": [
    {
     "name": "stdout",
     "output_type": "stream",
     "text": [
      "\n",
      "--- Detailed Schedule ---\n",
      "home → workplace\n",
      "  Start Time: 07:00:00\n",
      "  Arrival Time: 07:07:44.356078\n",
      "  Distance: 5293.659290148476 meters\n",
      "  Travel Time: 464.3560780831997 seconds\n",
      "  Route Nodes: [9014025575, 442321, 27323304, 9814086387, 9814086388, 9020074055, 9020073970, 9020074047, 27288863, 9738056575, 1987578932, 9844132326, 1987617275, 1987617271, 27233893, 27234076, 27234190, 5410385401, 27234191, 27234192, 27234196, 273416715, 27235462, 27235445, 21661018, 273415577, 21660970, 12009276962, 27286711, 27286712, 27286715, 21660281, 661218, 368319, 368318, 21292970, 1962530964, 368313, 368310, 21660044, 34816758, 34816573, 25624001, 34816775, 34816475, 34816542, 34816544, 34816546, 34816547, 34816507, 1761442006, 34817741, 34816712, 34816999, 34816433, 11025071863, 34817011, 34817010, 34817009, 34817006, 34817789, 34817793, 11873654231, 11026499124, 4718747866, 34818596, 34818913, 34818912]\n",
      "workplace → market\n",
      "  Start Time: 12:00:00\n",
      "  Arrival Time: 12:08:55.305158\n",
      "  Distance: 6102.478801195634 meters\n",
      "  Travel Time: 535.305157999617 seconds\n",
      "  Route Nodes: [34818912, 975372138, 34818920, 34818737, 1758970586, 34818843, 1986819857, 34818801, 337627158, 34818596, 4718747866, 11026499124, 11873654231, 34817793, 34817202, 34817806, 34817198, 34817196, 34817194, 34817193, 34817192, 34817188, 34817185, 34816718, 6472763447, 6227063997, 442256, 11520144740, 11517697937, 9226869749, 939747662, 11251066162, 11251066163, 319673158, 319673160, 11324050363, 11324061313, 27286624, 27286618, 27286619, 6468213268, 27235547, 27286553, 442319, 268146910, 21292453, 664019752, 268146803, 268146778, 9032332748, 268146806, 229097050]\n",
      "market → workplace\n",
      "  Start Time: 13:00:00\n",
      "  Arrival Time: 13:07:54.387072\n",
      "  Distance: 5408.012622303017 meters\n",
      "  Travel Time: 474.38707213184364 seconds\n",
      "  Route Nodes: [229097050, 268146806, 9032332748, 268146778, 268146803, 664019752, 21292453, 268146910, 27286550, 27286551, 442309, 27235576, 27286593, 27286610, 27286616, 442308, 27286626, 27286630, 27286635, 11901330183, 9425390032, 11251066165, 9226869749, 11517697937, 11520144745, 27373205, 27373192, 27373193, 11807302439, 27373195, 6227063997, 6472763447, 34816718, 305344287, 442252, 34817243, 34817220, 34817226, 34817227, 34818035, 34817231, 10156568331, 10156568337, 10156568326, 10156568334, 34817202, 34817793, 11873654231, 11026499124, 4718747866, 34818596, 34818913, 34818912]\n",
      "workplace → gym\n",
      "  Start Time: 18:00:00\n",
      "  Arrival Time: 18:09:09.903401\n",
      "  Distance: 6268.898776141586 meters\n",
      "  Travel Time: 549.9034014159286 seconds\n",
      "  Route Nodes: [34818912, 975372138, 34818920, 34818737, 1758970586, 34818843, 1986819857, 34818801, 337627158, 34818596, 4718747866, 11026499124, 11873654231, 34817793, 34817202, 34817806, 34817198, 34817196, 34817194, 34817193, 34817192, 34817188, 34817185, 34816718, 6472763447, 6227063997, 442256, 11520144740, 11517697937, 9226869749, 939747662, 11251066162, 11251066163, 319673158, 319673160, 11324050363, 11324061313, 27286624, 27286618, 27286619, 6468213268, 27235547, 27286553, 442319, 268146910, 21292453, 664019752, 268146803, 268146778, 268146780, 268146783, 9010339102]\n",
      "gym → home\n",
      "  Start Time: 20:00:00\n",
      "  Arrival Time: 20:00:29.850207\n",
      "  Distance: 340.2923594455312 meters\n",
      "  Travel Time: 29.850206968906242 seconds\n",
      "  Route Nodes: [9010339102, 229097050, 9010339200, 9014025565, 9014025571, 9014070127, 9014025575]\n"
     ]
    }
   ],
   "source": [
    "# Print the detailed schedule with trajectories\n",
    "print(\"\\n--- Detailed Schedule ---\")\n",
    "for movement in adult.detail_schedule:\n",
    "    print(f\"{movement['start_waypoint']} → {movement['end_waypoint']}\")\n",
    "    print(f\"  Start Time: {movement['start_time']}\")\n",
    "    print(f\"  Arrival Time: {movement['arrival_time']}\")\n",
    "    print(f\"  Distance: {movement['distance_m']} meters\")\n",
    "    print(f\"  Travel Time: {movement['travel_time_s']} seconds\")\n",
    "    print(f\"  Route Nodes: {movement['route_nodes']}\")"
   ]
  },
  {
   "cell_type": "code",
   "execution_count": 16,
   "metadata": {},
   "outputs": [
    {
     "name": "stdout",
     "output_type": "stream",
     "text": [
      "Checking position at time: 07:10:25.184406\n",
      "Movement 0: home → workplace\n",
      "    Start time: 07:00:00, Arrival time: 07:07:44.356078\n",
      "Movement 1: workplace → market\n",
      "    Start time: 12:00:00, Arrival time: 12:08:55.305158\n",
      "    Current time is before this movement. Returning start waypoint: workplace\n",
      "\n",
      "--- Simulated Position ---\n",
      "Time: 2025-01-14 07:10:25.184406\n",
      "Position (latitude, longitude): (48.856013427576144, 2.2678282530846796)\n"
     ]
    }
   ],
   "source": [
    "# Simulate position at a specific time\n",
    "current_time = datetime.now().replace(hour=7, minute=10)  # Example time\n",
    "position, log = adult.get_position_at_time(current_time)\n",
    "\n",
    "print(\"\\n--- Simulated Position ---\")\n",
    "print(f\"Time: {current_time}\")\n",
    "print(f\"Position (latitude, longitude): {position}\")"
   ]
  },
  {
   "cell_type": "code",
   "execution_count": 17,
   "metadata": {},
   "outputs": [
    {
     "data": {
      "text/plain": [
       "<folium.map.Marker at 0x14f787e30>"
      ]
     },
     "execution_count": 17,
     "metadata": {},
     "output_type": "execute_result"
    }
   ],
   "source": [
    "# Create a Folium map centered at the person's home\n",
    "home_coords = adult.waypoints[\"home\"]\n",
    "folium_map = folium.Map(location=home_coords, zoom_start=13)\n",
    "\n",
    "# Add waypoints to the map\n",
    "for waypoint, coords in adult.waypoints.items():\n",
    "    if coords:\n",
    "        folium.Marker(\n",
    "            location=coords, \n",
    "            popup=waypoint.capitalize(), \n",
    "            icon=folium.Icon(color=\"blue\")\n",
    "        ).add_to(folium_map)\n",
    "\n",
    "# Add trajectories to the map\n",
    "for movement in adult.detail_schedule:\n",
    "    route_nodes = movement[\"route_nodes\"]\n",
    "    route_coords = [(osm_manager.nodes.loc[node, \"y\"], osm_manager.nodes.loc[node, \"x\"]) for node in route_nodes]\n",
    "    \n",
    "    # Draw the route as a polyline\n",
    "    folium.PolyLine(route_coords, color=\"red\", weight=2.5, opacity=0.8).add_to(folium_map)\n",
    "\n",
    "\n",
    "# Add current position to the map\n",
    "folium.Marker(\n",
    "    location=position,\n",
    "    popup=f\"Current Position at {current_time.time()}\",\n",
    "    icon=folium.Icon(color=\"green\", icon=\"info-sign\"),\n",
    ").add_to(folium_map)"
   ]
  },
  {
   "cell_type": "code",
   "execution_count": 18,
   "metadata": {},
   "outputs": [
    {
     "name": "stdout",
     "output_type": "stream",
     "text": [
      "Map saved to map/person_movement_map.html\n"
     ]
    }
   ],
   "source": [
    "# Save the map to an HTML file\n",
    "map_filename = \"map/person_movement_map.html\"\n",
    "folium_map.save(map_filename)\n",
    "print(f\"Map saved to {map_filename}\")\n"
   ]
  }
 ],
 "metadata": {
  "kernelspec": {
   "display_name": ".venv",
   "language": "python",
   "name": "python3"
  },
  "language_info": {
   "codemirror_mode": {
    "name": "ipython",
    "version": 3
   },
   "file_extension": ".py",
   "mimetype": "text/x-python",
   "name": "python",
   "nbconvert_exporter": "python",
   "pygments_lexer": "ipython3",
   "version": "3.13.0"
  }
 },
 "nbformat": 4,
 "nbformat_minor": 2
}
