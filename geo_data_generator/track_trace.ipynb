{
 "cells": [
  {
   "cell_type": "code",
   "execution_count": 30,
   "metadata": {},
   "outputs": [],
   "source": [
    "from osm_integration import OSMManager\n",
    "from models.Adult import Adult\n",
    "from datetime import datetime\n",
    "import folium"
   ]
  },
  {
   "cell_type": "code",
   "execution_count": 31,
   "metadata": {},
   "outputs": [
    {
     "name": "stdout",
     "output_type": "stream",
     "text": [
      "Generating graph for center point (48.8588897, 2.3200410217200766) with radius 5000 meters...\n",
      "Graph saved to cache: graph_cache/6bf208f59a960e253819f00601a6bdbd.pkl\n",
      "Scanning for residential...\n",
      "Scanning for residential near (48.8588897, 2.3200410217200766) within 5000 meters...\n",
      "Found 97 residential.\n",
      "Scanning for parks...\n",
      "Scanning for parks near (48.8588897, 2.3200410217200766) within 5000 meters...\n",
      "Found 782 parks.\n",
      "Scanning for schools...\n",
      "Scanning for schools near (48.8588897, 2.3200410217200766) within 5000 meters...\n",
      "Found 1319 schools.\n",
      "Scanning for workplaces...\n",
      "Scanning for workplaces near (48.8588897, 2.3200410217200766) within 5000 meters...\n",
      "Found 4683 workplaces.\n",
      "Scanning for markets...\n",
      "Scanning for markets near (48.8588897, 2.3200410217200766) within 5000 meters...\n",
      "Found 714 markets.\n",
      "Scanning for healthcare...\n",
      "Scanning for healthcare near (48.8588897, 2.3200410217200766) within 5000 meters...\n",
      "Found 1119 healthcare.\n",
      "Scanning for play_areas...\n",
      "Scanning for play_areas near (48.8588897, 2.3200410217200766) within 5000 meters...\n",
      "Found 693 play_areas.\n",
      "Scanning for gyms...\n",
      "Scanning for gyms near (48.8588897, 2.3200410217200766) within 5000 meters...\n",
      "Found 242 gyms.\n"
     ]
    }
   ],
   "source": [
    "# Define the center point and radius for OSMManager\n",
    "center_point = (48.8588897, 2.3200410217200766)  # Example: Ho Chi Minh City center\n",
    "radius = 5000  # 5 km radius\n",
    "\n",
    "# Initialize OSMManager\n",
    "osm_manager = OSMManager(center_point, radius, network_type=\"drive\")"
   ]
  },
  {
   "cell_type": "code",
   "execution_count": 32,
   "metadata": {},
   "outputs": [
    {
     "name": "stdout",
     "output_type": "stream",
     "text": [
      "Person 1 assigned home at (48.889304564063046, 2.2933161786793215).\n",
      "Person 1 assigned workplace at (48.84547102110295, 2.3568692081700244).\n",
      "Person 1 assigned gym at (48.8938955, 2.2955883).\n",
      "Person 1 assigned market at (48.890234, 2.291728).\n",
      "Trajectory built from (48.889304564063046, 2.2933161786793215) to (48.84547102110295, 2.3568692081700244) with 110 nodes.\n",
      "Trajectory built from (48.84547102110295, 2.3568692081700244) to (48.890234, 2.291728) with 96 nodes.\n",
      "Trajectory built from (48.890234, 2.291728) to (48.84547102110295, 2.3568692081700244) with 105 nodes.\n",
      "Trajectory built from (48.84547102110295, 2.3568692081700244) to (48.8938955, 2.2955883) with 101 nodes.\n",
      "Trajectory built from (48.8938955, 2.2955883) to (48.889304564063046, 2.2933161786793215) with 10 nodes.\n"
     ]
    }
   ],
   "source": [
    "# Create an adult person\n",
    "adult = Adult(unique_id=1, type=\"adult\", speed=11.4, osm_manager=osm_manager)"
   ]
  },
  {
   "cell_type": "code",
   "execution_count": 33,
   "metadata": {},
   "outputs": [
    {
     "name": "stdout",
     "output_type": "stream",
     "text": [
      "\n",
      "--- Assigned Waypoints ---\n",
      "Home: (48.889304564063046, 2.2933161786793215)\n",
      "Workplace: (48.84547102110295, 2.3568692081700244)\n",
      "Market: (48.890234, 2.291728)\n",
      "Gym: (48.8938955, 2.2955883)\n"
     ]
    }
   ],
   "source": [
    "# Print the assigned waypoints\n",
    "print(\"\\n--- Assigned Waypoints ---\")\n",
    "for waypoint, coords in adult.waypoints.items():\n",
    "    if coords:\n",
    "        print(f\"{waypoint.capitalize()}: {coords}\")"
   ]
  },
  {
   "cell_type": "code",
   "execution_count": 34,
   "metadata": {},
   "outputs": [
    {
     "name": "stdout",
     "output_type": "stream",
     "text": [
      "\n",
      "--- Schedule ---\n",
      "home → workplace at 07:00:00\n",
      "workplace → market at 12:00:00\n",
      "market → workplace at 13:00:00\n",
      "workplace → gym at 18:00:00\n",
      "gym → home at 20:00:00\n"
     ]
    }
   ],
   "source": [
    "# Print the schedule\n",
    "print(\"\\n--- Schedule ---\")\n",
    "for movement in adult.schedule:\n",
    "    print(f\"{movement['start_waypoint']} → {movement['end_waypoint']} at {movement['start_time']}\")"
   ]
  },
  {
   "cell_type": "code",
   "execution_count": 35,
   "metadata": {},
   "outputs": [
    {
     "name": "stdout",
     "output_type": "stream",
     "text": [
      "\n",
      "--- Detailed Schedule ---\n",
      "home → workplace\n",
      "  Start Time: 07:00:00\n",
      "  Arrival Time: 07:11:47.648455\n",
      "  Distance: 8067.192382445759 meters\n",
      "  Travel Time: 707.6484546005051 seconds\n",
      "  Route Nodes: [8449824562, 21292454, 5525617857, 5525617858, 27286563, 27286560, 27286551, 442309, 27235547, 5560755450, 6046934308, 303074688, 27235559, 1369651401, 367906, 4187963975, 367911, 27233732, 27234100, 297208404, 27234193, 27234192, 27234197, 31960801, 27235394, 31960431, 21661082, 981730952, 6892173207, 981730959, 32565381, 32565382, 27235305, 32565383, 32561132, 32564555, 32560746, 169326630, 32561279, 32561341, 32560725, 25934313, 368254, 25626383, 25626414, 25667136, 25934279, 25668541, 9966672196, 6230294622, 368250, 16820915, 12164999594, 368243, 4616528, 21292430, 25196652, 8395404619, 227180463, 25192858, 664130869, 160030886, 25194426, 25192856, 25192854, 470160, 25253728, 164132298, 4729508759, 470159, 25253770, 25253772, 470149, 25253722, 25253723, 367504, 24958048, 24958041, 24958038, 24958034, 24958030, 1756761496, 24958023, 24983568, 367505, 24972424, 24972423, 367506, 7009789968, 25031257, 470132, 25031285, 25031308, 25031311, 25031316, 235806764, 470137, 7847045368, 25031493, 25101533, 361060, 25034403, 25101538, 245535448, 9429648010, 25034405, 25034433, 25034434, 25034435, 25103029]\n",
      "workplace → market\n",
      "  Start Time: 12:00:00\n",
      "  Arrival Time: 12:11:40.738085\n",
      "  Distance: 7988.414168999884 meters\n",
      "  Travel Time: 700.7380849999898 seconds\n",
      "  Route Nodes: [25103029, 25034433, 25034405, 9429648010, 245535448, 25101538, 25034403, 361060, 25101533, 25031493, 7847045368, 470137, 25095614, 25095612, 2399876970, 25095610, 361062, 367510, 11070910848, 25183526, 21305936, 6190019965, 470142, 25188950, 25188960, 5881319925, 470145, 470146, 25191280, 227213605, 227211630, 227214316, 368195, 368205, 373732187, 25273197, 25273196, 682294054, 4695326496, 8255942949, 280462687, 25207339, 25272889, 25272888, 25272915, 25272917, 2200327356, 264494546, 243648472, 29604272, 21292433, 21379135, 21292434, 178764097, 178763514, 178763582, 34909027, 29604243, 178763173, 6483877365, 398785, 7021796591, 178761643, 169325341, 27235211, 27235206, 11921771166, 11921771164, 21292440, 27235241, 27252609, 277518683, 176943871, 27252239, 1978198745, 27234208, 27234203, 27234213, 27234052, 27234045, 27233905, 27233893, 27234093, 1107432316, 5095554625, 5095554623, 27233726, 1369651515, 367908, 27233754, 27233766, 442319, 268146910, 21292453, 664019752, 21292467]\n",
      "market → workplace\n",
      "  Start Time: 13:00:00\n",
      "  Arrival Time: 13:11:24.063376\n",
      "  Distance: 7798.322485156836 meters\n",
      "  Travel Time: 684.0633758909505 seconds\n",
      "  Route Nodes: [21292467, 664019752, 21292453, 268146910, 442319, 27233766, 27233754, 5204784909, 1369651401, 367906, 4187963975, 367911, 27233732, 27234100, 297208404, 27234193, 27234192, 27234197, 31960801, 27235394, 31960431, 21661082, 981730952, 6892173207, 981730959, 32565381, 32565382, 27235305, 32565383, 32561132, 32564555, 32560746, 169326630, 32561279, 32561341, 32560725, 25934313, 368254, 25626383, 25626414, 25667136, 25934279, 25668541, 9966672196, 6230294622, 368250, 16820915, 12164999594, 368243, 4616528, 21292430, 25196652, 8395404619, 227180463, 25192858, 664130869, 160030886, 25194426, 25192856, 25192854, 470160, 25253728, 164132298, 4729508759, 470159, 25253770, 25253772, 470149, 25253722, 25253723, 367504, 24958048, 24958041, 24958038, 24958034, 24958030, 1756761496, 24958023, 24983568, 367505, 24972424, 24972423, 367506, 7009789968, 25031257, 470132, 25031285, 25031308, 25031311, 25031316, 235806764, 470137, 7847045368, 25031493, 25101533, 361060, 25034403, 25101538, 245535448, 9429648010, 25034405, 25034433, 25034434, 25034435, 25103029]\n",
      "workplace → gym\n",
      "  Start Time: 18:00:00\n",
      "  Arrival Time: 18:12:21.288027\n",
      "  Distance: 8450.68350647158 meters\n",
      "  Travel Time: 741.2880268834718 seconds\n",
      "  Route Nodes: [25103029, 25034433, 25034405, 9429648010, 245535448, 25101538, 25034403, 361060, 25101533, 25031493, 7847045368, 470137, 25095614, 25095612, 2399876970, 25095610, 361062, 367510, 11070910848, 25183526, 21305936, 6190019965, 470142, 25188950, 25188960, 5881319925, 470145, 470146, 25191280, 227213605, 227211630, 227214316, 368195, 368205, 373732187, 25273197, 25273196, 682294054, 4695326496, 8255942949, 280462687, 25207339, 25272889, 25272888, 25272915, 25272917, 2200327356, 264494546, 243648472, 29604272, 21292433, 21379135, 21292434, 178764097, 178763514, 178763582, 34909027, 29604243, 178763173, 6483877365, 398785, 7021796591, 178761643, 169325341, 27235211, 27235206, 11921771166, 11921771164, 21292440, 27235241, 27252609, 277518683, 176943871, 27252239, 1978198745, 27234208, 27234203, 27234213, 27234052, 27234045, 27233905, 27233893, 27234093, 1107432316, 5095554625, 5095554623, 27233726, 1369651515, 367908, 27233754, 27233766, 442319, 268146910, 21292453, 664019752, 21292467, 490790808, 268127168, 268127169, 268127170, 268127171]\n",
      "gym → home\n",
      "  Start Time: 20:00:00\n",
      "  Arrival Time: 20:02:01.885093\n",
      "  Distance: 1389.4900612835684 meters\n",
      "  Travel Time: 121.88509309504985 seconds\n",
      "  Route Nodes: [268127171, 6262592460, 229097047, 268146783, 9010339102, 229097050, 9010339200, 9014025565, 209165758, 8449824562]\n"
     ]
    }
   ],
   "source": [
    "# Print the detailed schedule with trajectories\n",
    "print(\"\\n--- Detailed Schedule ---\")\n",
    "for movement in adult.detail_schedule:\n",
    "    print(f\"{movement['start_waypoint']} → {movement['end_waypoint']}\")\n",
    "    print(f\"  Start Time: {movement['start_time']}\")\n",
    "    print(f\"  Arrival Time: {movement['arrival_time']}\")\n",
    "    print(f\"  Distance: {movement['distance_m']} meters\")\n",
    "    print(f\"  Travel Time: {movement['travel_time_s']} seconds\")\n",
    "    print(f\"  Route Nodes: {movement['route_nodes']}\")"
   ]
  },
  {
   "cell_type": "code",
   "execution_count": 39,
   "metadata": {},
   "outputs": [
    {
     "name": "stdout",
     "output_type": "stream",
     "text": [
      "\n",
      "--- Simulated Position ---\n",
      "Time: 2025-01-12 07:10:49.844140\n",
      "Position (latitude, longitude): (np.float64(48.84801545222943), np.float64(2.350739270616011))\n"
     ]
    }
   ],
   "source": [
    "# Simulate position at a specific time\n",
    "current_time = datetime.now().replace(hour=7, minute=10)  # Example time\n",
    "position = adult.get_position_at_time(current_time)\n",
    "\n",
    "print(\"\\n--- Simulated Position ---\")\n",
    "print(f\"Time: {current_time}\")\n",
    "print(f\"Position (latitude, longitude): {position}\")"
   ]
  },
  {
   "cell_type": "code",
   "execution_count": 40,
   "metadata": {},
   "outputs": [
    {
     "data": {
      "text/plain": [
       "<folium.map.Marker at 0x17855e170>"
      ]
     },
     "execution_count": 40,
     "metadata": {},
     "output_type": "execute_result"
    }
   ],
   "source": [
    "# Create a Folium map centered at the person's home\n",
    "home_coords = adult.waypoints[\"home\"]\n",
    "folium_map = folium.Map(location=home_coords, zoom_start=13)\n",
    "\n",
    "# Add waypoints to the map\n",
    "for waypoint, coords in adult.waypoints.items():\n",
    "    if coords:\n",
    "        folium.Marker(\n",
    "            location=coords, \n",
    "            popup=waypoint.capitalize(), \n",
    "            icon=folium.Icon(color=\"blue\")\n",
    "        ).add_to(folium_map)\n",
    "\n",
    "# Add trajectories to the map\n",
    "for movement in adult.detail_schedule:\n",
    "    route_nodes = movement[\"route_nodes\"]\n",
    "    route_coords = [(osm_manager.nodes.loc[node, \"y\"], osm_manager.nodes.loc[node, \"x\"]) for node in route_nodes]\n",
    "    \n",
    "    # Draw the route as a polyline\n",
    "    folium.PolyLine(route_coords, color=\"red\", weight=2.5, opacity=0.8).add_to(folium_map)\n",
    "\n",
    "# Add current position to the map\n",
    "folium.Marker(\n",
    "    location=position,\n",
    "    popup=f\"Current Position at {current_time.time()}\",\n",
    "    icon=folium.Icon(color=\"green\", icon=\"info-sign\"),\n",
    ").add_to(folium_map)"
   ]
  },
  {
   "cell_type": "code",
   "execution_count": 41,
   "metadata": {},
   "outputs": [
    {
     "name": "stdout",
     "output_type": "stream",
     "text": [
      "Map saved to map/person_movement_map.html\n"
     ]
    }
   ],
   "source": [
    "# Save the map to an HTML file\n",
    "map_filename = \"map/person_movement_map.html\"\n",
    "folium_map.save(map_filename)\n",
    "print(f\"Map saved to {map_filename}\")\n"
   ]
  }
 ],
 "metadata": {
  "kernelspec": {
   "display_name": ".venv",
   "language": "python",
   "name": "python3"
  },
  "language_info": {
   "codemirror_mode": {
    "name": "ipython",
    "version": 3
   },
   "file_extension": ".py",
   "mimetype": "text/x-python",
   "name": "python",
   "nbconvert_exporter": "python",
   "pygments_lexer": "ipython3",
   "version": "3.13.0"
  }
 },
 "nbformat": 4,
 "nbformat_minor": 2
}
